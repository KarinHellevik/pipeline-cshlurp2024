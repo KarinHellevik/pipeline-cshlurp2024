{
 "cells": [
  {
   "cell_type": "markdown",
   "metadata": {},
   "source": [
    "# The Plug-and-Chug Notebook for Ethogram-Making:\n",
    "## This notebook includes:\n",
    "   ### 1. Re-encoding videos\n",
    "   ### 2. Creating inferences (label) on your videos using an existing SLEAP model and exporting the coordinates in an .h5 file\n",
    "   - you can also do the inferences and exporting the coordinates in the SLEAP application. When running the inferences in the SLEAP app, depending on if and what error message you get, you may need to **re-encode your videos** \n",
    "   ### 3. Getting Behavioral Syllables\n",
    "\n",
    "\n",
    "\n",
    "\n",
    "This notebook does not include:\n",
    "   - how to create and train a SLEAP model\n",
    "   - how to create and train a Keypoint Moseq model\n",
    "\n"
   ]
  },
  {
   "cell_type": "markdown",
   "metadata": {},
   "source": [
    "First, let's get your packages imported so we can use them in our code. A list of packages that you need to install in your environment is in the README.txt file. Remember **importing =/= installing** (I've made this silly mistake multiple times when sleep deprived)"
   ]
  },
  {
   "cell_type": "markdown",
   "metadata": {},
   "source": [
    "environment location: C:\\Users\\Steve\\anaconda3\\envs\\keypoint_moseq"
   ]
  },
  {
   "cell_type": "code",
   "execution_count": 1,
   "metadata": {},
   "outputs": [],
   "source": [
    "import os\n",
    "#import keypoint_moseq as kpms\n",
    "import subprocess #this is how you are going to use FFmpeg. also, installation of the FFmpeg \"package\" is different from other packages\n"
   ]
  },
  {
   "cell_type": "code",
   "execution_count": 2,
   "metadata": {},
   "outputs": [
    {
     "name": "stdout",
     "output_type": "stream",
     "text": [
      "Unexpected exception formatting exception. Falling back to standard exception\n"
     ]
    },
    {
     "name": "stderr",
     "output_type": "stream",
     "text": [
      "Traceback (most recent call last):\n",
      "  File \"c:\\Users\\Steve\\anaconda3\\envs\\keypoint_moseq\\lib\\site-packages\\IPython\\core\\interactiveshell.py\", line 3550, in run_code\n",
      "  File \"C:\\Users\\Steve\\AppData\\Local\\Temp\\ipykernel_23968\\3593848235.py\", line 1, in <module>\n",
      "    import numpy as np\n",
      "ModuleNotFoundError: No module named 'numpy'\n",
      "\n",
      "During handling of the above exception, another exception occurred:\n",
      "\n",
      "Traceback (most recent call last):\n",
      "  File \"c:\\Users\\Steve\\anaconda3\\envs\\keypoint_moseq\\lib\\site-packages\\pygments\\styles\\__init__.py\", line 45, in get_style_by_name\n",
      "ModuleNotFoundError: No module named 'pygments.styles.default'\n",
      "\n",
      "During handling of the above exception, another exception occurred:\n",
      "\n",
      "Traceback (most recent call last):\n",
      "  File \"c:\\Users\\Steve\\anaconda3\\envs\\keypoint_moseq\\lib\\site-packages\\IPython\\core\\interactiveshell.py\", line 2144, in showtraceback\n",
      "  File \"c:\\Users\\Steve\\anaconda3\\envs\\keypoint_moseq\\lib\\site-packages\\IPython\\core\\ultratb.py\", line 1435, in structured_traceback\n",
      "  File \"c:\\Users\\Steve\\anaconda3\\envs\\keypoint_moseq\\lib\\site-packages\\IPython\\core\\ultratb.py\", line 1326, in structured_traceback\n",
      "  File \"c:\\Users\\Steve\\anaconda3\\envs\\keypoint_moseq\\lib\\site-packages\\IPython\\core\\ultratb.py\", line 1173, in structured_traceback\n",
      "  File \"c:\\Users\\Steve\\anaconda3\\envs\\keypoint_moseq\\lib\\site-packages\\IPython\\core\\ultratb.py\", line 1063, in format_exception_as_a_whole\n",
      "  File \"c:\\Users\\Steve\\anaconda3\\envs\\keypoint_moseq\\lib\\site-packages\\IPython\\core\\ultratb.py\", line 1114, in get_records\n",
      "  File \"c:\\Users\\Steve\\anaconda3\\envs\\keypoint_moseq\\lib\\site-packages\\pygments\\styles\\__init__.py\", line 47, in get_style_by_name\n",
      "pygments.util.ClassNotFound: Could not find style module 'pygments.styles.default', though it should be builtin.\n"
     ]
    }
   ],
   "source": [
    "import keypoint-"
   ]
  },
  {
   "cell_type": "markdown",
   "metadata": {},
   "source": [
    "Also get your file paths set up:"
   ]
  },
  {
   "cell_type": "code",
   "execution_count": 5,
   "metadata": {},
   "outputs": [],
   "source": [
    "beforereencodingvidfolder_dir = 'C:/Users/Steve/Desktop/Karin/test/before/' #put None if you don't want to reencode\n",
    "video_dir = 'C:/Users/Steve/Desktop/Karin/test/after/' #change directory of output folder here for the videos and h5 files\n",
    "model_path = 'C:/Users/Steve/Desktop/Karin/tutorials/240702_115047.multi_instance.n=1262/' #where is your SLEAP model?"
   ]
  },
  {
   "cell_type": "markdown",
   "metadata": {},
   "source": [
    "# 1. Re-encoding videos\n",
    "A common problem with SLEAP are videos that are [not reliably seekable](https://sleap.ai/develop/help.html). In my experience, sometimes when I want to run inferences, SLEAP will print out an error in the error log saying something about an issue with the last frame of the video. I've had this issue with a few videos on the Grid (but somehow not Katie's) and it has to do with how the video data is stored (I'm pretty sure). One of the things you can to trouble shoot is re-encoding. Something to note is that re-encoding ***changes your file***, and personally, I'm a believer of the \"less is more\" approach when it comes to any post-collection modifying of data. \n",
    "\n",
    "Anyways, here is a function that will reencode your videos in the '''beforereencodingvidfolder_dir''' folder directory"
   ]
  },
  {
   "cell_type": "code",
   "execution_count": 4,
   "metadata": {},
   "outputs": [],
   "source": [
    "def reencode_videos(beforereencodingvidfolder_dir, video_dir):\n",
    "    if beforereencodingvidfolder_dir is None or not os.path.exists(beforereencodingvidfolder_dir):\n",
    "        print('no reencoding today!')\n",
    "        return\n",
    "    else:\n",
    "        # Ensure output directory exists\n",
    "        os.makedirs(video_dir, exist_ok=True)\n",
    "\n",
    "        # FFmpeg command template\n",
    "        ffmpeg_command = 'ffmpeg -y -i \"{input_file}\" -c:v libx264 -pix_fmt yuv420p -preset superfast -crf 23 \"{output_file}\"'\n",
    "\n",
    "        # Iterate through each file in beforevidfolder_dir\n",
    "        for filename in os.listdir(beforereencodingvidfolder_dir):\n",
    "            if filename.endswith('.mp4'):\n",
    "                input_file = os.path.join(beforereencodingvidfolder_dir, filename)\n",
    "                output_file = os.path.join(video_dir, filename)\n",
    "                \n",
    "                # Construct and execute FFmpeg command\n",
    "                command = ffmpeg_command.format(input_file=input_file, output_file=output_file)\n",
    "                \n",
    "                try:\n",
    "                    subprocess.run(command, shell=True, check=True)\n",
    "                    print(f'Reencoded {filename} and saved as {os.path.basename(output_file)}')\n",
    "                except subprocess.CalledProcessError as e:\n",
    "                    print(f'Error reencoding {filename}: {e}')"
   ]
  },
  {
   "cell_type": "markdown",
   "metadata": {},
   "source": [
    "Here is the code to execute said function"
   ]
  },
  {
   "cell_type": "code",
   "execution_count": 5,
   "metadata": {},
   "outputs": [
    {
     "name": "stdout",
     "output_type": "stream",
     "text": [
      "Reencoded NBL3_post_home_20241001_10.avi.mp4 and saved as NBL3_post_home_20241001_10.avi.mp4\n"
     ]
    }
   ],
   "source": [
    "reencode_videos(beforereencodingvidfolder_dir, video_dir)\n"
   ]
  },
  {
   "attachments": {
    "image.png": {
     "image/png": "[encoded data removed]"
    }
   },
   "cell_type": "markdown",
   "metadata": {},
   "source": [
    "# 2. Creating inferences (A.K.A. labeling) on your videos using an existing SLEAP model and exporting the 2D coordinates in an .h5 file\n",
    "At this point you are going to have to change the kernel to \"sleap\" (whomp whomp) because for some reason I can't do it for you. Believe me, I tried for like an hour. Basically, I couldn't install Keypoint Moseq in the same environment as SLEAP which is why you need to change kernels.\n",
    "\n",
    "*Anyways*... I wrote a few lines that will run in the terminal to basically generate labels in an .slp file (SLEAP file) and an .h5 file based off of the model that you set 'model_path' to earlier. The .h5 file is what you will use for classifying the behaviors in your videos. \n",
    "\n",
    "You change kernels by ![image.png](attachment:image.png)\n",
    "\n",
    "##### TLDR: If you started running this notebook in a different kernel, now is the time to ***change your kernel to sleap***. Also, since changing kernels will reset your variables, ***re-run the cell where you imported your packages and the cell where you specified your file/folder paths***\n",
    "\n"
   ]
  },
  {
   "cell_type": "markdown",
   "metadata": {},
   "source": [
    "So this first cell is for SLEAP labeling your videos and printing a .slp file (yes it will take awhile)"
   ]
  },
  {
   "cell_type": "code",
   "execution_count": null,
   "metadata": {},
   "outputs": [
    {
     "ename": "",
     "evalue": "",
     "output_type": "error",
     "traceback": [
      "\u001b[1;31mRunning cells with 'sleap (Python 3.7.12)' requires the ipykernel package.\n",
      "\u001b[1;31mRun the following command to install 'ipykernel' into the Python environment. \n",
      "\u001b[1;31mCommand: 'conda install -p c:\\Users\\Steve\\miniforge3\\envs\\sleap ipykernel --update-deps --force-reinstall'"
     ]
    }
   ],
   "source": [
    "max_tracks = 1 #number of animals you are tracking\n",
    "tracker = 'simplemaxtracks'\n",
    "for filename in os.listdir(video_dir):\n",
    "    if filename.endswith('.mp4'):\n",
    "        input_file = os.path.join(video_dir, filename)\n",
    "        output_filename = os.path.splitext(filename)[0] + '.slp'\n",
    "        output_file_path = os.path.join(video_dir, output_filename)\n",
    "        sleap_track_command = f\"sleap-track -m {model_path} \" \\\n",
    "                              f\"--tracking.tracker {tracker} \" \\\n",
    "                              f\"--tracking.max_tracking {1} \" \\\n",
    "                              f\"--tracking.max_tracks {max_tracks} \" \\\n",
    "                              f\"-o {output_file_path} \" \\\n",
    "                              f\"{input_file}\"\n",
    "        try:\n",
    "                # Execute the command\n",
    "                subprocess.run(sleap_track_command, shell=True, check=True)\n",
    "        except subprocess.CalledProcessError as e:\n",
    "            print(f'Error processing {filename}: {e}')\n"
   ]
  },
  {
   "cell_type": "markdown",
   "metadata": {},
   "source": [
    "This next cell will convert the .slp files to .h5 files"
   ]
  },
  {
   "cell_type": "code",
   "execution_count": 10,
   "metadata": {},
   "outputs": [],
   "source": [
    "for filename in os.listdir(video_dir):\n",
    "    if filename.endswith('.slp'):\n",
    "        input_slpfile = os.path.join(video_dir, filename)\n",
    "        output_h5filename = os.path.splitext(filename)[0] + '.h5'\n",
    "        output_h5file_path = os.path.join(video_dir, output_h5filename)\n",
    "        sleap_convert_command = f\"sleap-convert --format analysis -o {output_h5file_path} {input_slpfile}\"\n",
    "        try:\n",
    "            subprocess.run(sleap_convert_command)\n",
    "        except subprocess.CalledProcessError as e:\n",
    "            print(f'Error processing {filename}: {e}')"
   ]
  }
 ],
 "metadata": {
  "kernelspec": {
   "display_name": "keypoint_moseq",
   "language": "python",
   "name": "python3"
  },
  "language_info": {
   "codemirror_mode": {
    "name": "ipython",
    "version": 3
   },
   "file_extension": ".py",
   "mimetype": "text/x-python",
   "name": "python",
   "nbconvert_exporter": "python",
   "pygments_lexer": "ipython3",
   "version": "3.9.19"
  }
 },
 "nbformat": 4,
 "nbformat_minor": 2
}
